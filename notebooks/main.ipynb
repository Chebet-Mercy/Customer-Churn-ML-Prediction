{
 "cells": [
  {
   "cell_type": "markdown",
   "metadata": {},
   "source": [
    "## CUSTOMER CHURN MACHINE LEARNING PREDICTION"
   ]
  },
  {
   "cell_type": "markdown",
   "metadata": {},
   "source": [
    "### Business Understanding\n",
    "In the highly competitive telecommunications industry, retaining customers is crucial for maintaining revenue and profitability. Customer churn, the phenomenon where customers stop using a company's services, poses a significant challenge. To address this, companies are increasingly leveraging machine learning techniques to predict churn and devise strategies to enhance customer retention.\n",
    "\n",
    "This project aims to assist a telecommunication company in understanding their customer data, identifying factors contributing to churn, and predicting which customers are likely to churn. By building and evaluating classification models, we can provide actionable insights to help the company mitigate churn and improve customer loyalty.\n",
    "\n",
    "### Stakeholders\n",
    " - Chief Marketing Officer (CMO) \n",
    " - Customer Service Director \n",
    " - Chief Data Officer\n",
    "\n",
    "### Key Metrics and Success Criteria\n",
    " The Model should have an accuracy score of 85% (On balanced data)\n",
    " Good models are expected to have an accuracy score of >0.80 or 80% \n",
    "\n",
    "### Hypothesis\n",
    "Null Hypothesis (H0): Customer demographics have no significant effect on churn.\n",
    "Alternative Hypothesis (H1): Customer demographics have a significant effect on churn. \n",
    "\n",
    "### Analytical Questions\n",
    "1. What is the Churn percentage based on the paymment method?\n",
    "2. What are the key demographic factors (e.g., gender, age, dependents) that influence customer churn?\n",
    "3. How frequently do customers who churn interact with customer support compared to those who stay?\n",
    "4.  How does the tenure of a customer impact their likelihood of churning?\n",
    "5. Which services (e.g., streaming, international calls, internet service) are most frequently used by customers who churn?\n",
    "6. How does the type of contract (e.g., month-to-month, one year, two years) impact churn rates?\n",
    "7. What are the common issues raised by customers who churn during their interactions with customer support?"
   ]
  },
  {
   "cell_type": "markdown",
   "metadata": {},
   "source": [
    "## Data Understanding"
   ]
  },
  {
   "cell_type": "code",
   "execution_count": null,
   "metadata": {},
   "outputs": [],
   "source": [
    "\n"
   ]
  }
 ],
 "metadata": {
  "language_info": {
   "name": "python"
  }
 },
 "nbformat": 4,
 "nbformat_minor": 2
}
